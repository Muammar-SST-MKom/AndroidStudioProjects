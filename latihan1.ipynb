{
  "nbformat": 4,
  "nbformat_minor": 0,
  "metadata": {
    "colab": {
      "private_outputs": true,
      "provenance": [],
      "authorship_tag": "ABX9TyOV6TmY/ZKxADPlhLTtlfut",
      "include_colab_link": true
    },
    "kernelspec": {
      "name": "python3",
      "display_name": "Python 3"
    },
    "language_info": {
      "name": "python"
    }
  },
  "cells": [
    {
      "cell_type": "markdown",
      "metadata": {
        "id": "view-in-github",
        "colab_type": "text"
      },
      "source": [
        "<a href=\"https://colab.research.google.com/github/MuammarSST/AndroidStudioProjects/blob/master/latihan1.ipynb\" target=\"_parent\"><img src=\"https://colab.research.google.com/assets/colab-badge.svg\" alt=\"Open In Colab\"/></a>"
      ]
    },
    {
      "cell_type": "code",
      "execution_count": null,
      "metadata": {
        "id": "RosJ1mGB0d10"
      },
      "outputs": [],
      "source": [
        "#latihan 1\n",
        "#Nama:Muammar\n",
        "#Nim:21/2006/0057/TSD/14\n",
        "#Prodi: S2-MTI\"\n",
        "\n",
        "\"\"\"\n",
        "1. Buatlah fungsi atau sub program untuk mengkonversi nilai angka menjadi nilai huruf\n",
        "mengembangkan kasus praktik no 5. petunjuk def ubahNilai(nilai):\n",
        "\"\"\"\n",
        "\n",
        "def ubahNilai(nilai):\n",
        "  import os \n",
        "  os.system('cls') #bersihkan layar\n",
        "  lagi=\"Y\"\n",
        "  while lagi ==\"Y\" or lagi==\"y\":\n",
        "    os.system('cls') #bersihkan layar\n",
        "    if nilai >=0 and nilai <=19:\n",
        "      print(\"Nilai Anda E\")\n",
        "                \n",
        "    elif nilai >=20 and nilai <=44:\n",
        "      print(\"Nilai Anda D\")\n",
        "            \n",
        "    elif nilai >=45 and nilai <=64:\n",
        "      print(\"Nilai Anda C\")\n",
        "                \n",
        "    elif nilai >=65 and nilai <=79:\n",
        "      print(\"Nilai Anda B\")\n",
        "            \n",
        "    elif nilai >=80 and nilai <=100:\n",
        "      print(\"Nilai Anda A\")\n",
        "            \n",
        "    else:\n",
        "      print(\"Maaf Anda Salah Input\")\n",
        "    print(\"\")    \n",
        "    lagi=input(\"Mencoba lagi [Y/T]:\")\n",
        "    \n",
        "        \n",
        "  print(\">>>>> Terima Kasih Anda Telah Menggunakan program ini <<<<<\")                  \n",
        "            \n",
        "ubahNilai(int(input(\"Masukan Nilai Angka [0..100]:\")))\n",
        "   "
      ]
    },
    {
      "cell_type": "code",
      "source": [],
      "metadata": {
        "id": "B7MqIIusdRmb"
      },
      "execution_count": null,
      "outputs": []
    },
    {
      "cell_type": "code",
      "source": [
        "#latihan 2\n",
        "#Nama:Muammar\n",
        "#Nim:21/2006/0057/TSD/14\n",
        "#Prodi: S2-MTI\n",
        "\n",
        "\"\"\"\n",
        "2. Buatlah fungsi atau sub program kasus menghitung skor nilai dengan ketentuan:\n",
        "nilai A, skor = 4 * sks\n",
        "nilai B, skor = 3 * sks\n",
        "nilai C, skor = 2 * sks\n",
        "nilai D, skor = 1 * sks\n",
        "nilai E, skor = 0,\n",
        "petunjuk: def hitungSkor(nilai,sks):\n",
        "\"\"\"\n",
        "\n",
        "def hitungSkor(nilai,sks):\n",
        "  if(nilai==\"A\" or nilai==\"a\"):\n",
        "    skor=4*sks\n",
        "    print (\"Jumlah Menghitung Skor Nilai Adalah:\")\n",
        "    return skor\n",
        "  elif(nilai==\"B\" or nilai==\"b\"):\n",
        "    skor=3*sks\n",
        "    print (\"Jumlah Menghitung Skor Nilai Adalah:\")\n",
        "    return skor\n",
        "  elif(nilai==\"C\" or nilai==\"c\"):\n",
        "    skor=2*sks\n",
        "    return skor\n",
        "    print (\"Jumlah Menghitung Skor Nilai Adalah:\")\n",
        "  elif(nilai==\"D\" or nilai==\"d\"):\n",
        "    skor=1*sks\n",
        "    print (\"Jumlah Menghitung Skor Nilai Adalah:\")\n",
        "    return skor\n",
        "  elif(nilai==\"E\" or nilai==\"e\"):\n",
        "    skor=0*sks\n",
        "    print (\"Jumlah Menghitung Skor Nilai Adalah:\")\n",
        "    return skor\n",
        "\n",
        "hitungSkor(str(input(\"Masukan Nilai: \")),int(input(\"Masukan SKS: \"))) "
      ],
      "metadata": {
        "id": "pkLGM4f-DE8s"
      },
      "execution_count": null,
      "outputs": []
    },
    {
      "cell_type": "code",
      "source": [
        "#Tugas 1\n",
        "#Nama:Muammar\n",
        "#Nim:21/2006/0057/TSD/14\n",
        "#Prodi: S2-MTI\"\n",
        "\n",
        "\"\"\"\n",
        "1.Buatlah program untuk mecari nilai terbesar dan nilai terkecil dari bilangan bulat dalam\n",
        "variabel a, b, c, d menggunakan pernyataan if\n",
        "\"\"\"\n",
        "\n",
        "a=int(input(\"Masukan Bilangan Ke 1: \"))\n",
        "b=int(input(\"Masukan Bilangan Ke 2: \"))\n",
        "c=int(input(\"Masukan Bilangan Ke 3: \"))\n",
        "d=int(input(\"Masukan Bilangan Ke 4: \"))\n",
        "\n",
        "terkecil=a\n",
        "if(b<terkecil):\n",
        "  terkecil=b\n",
        "elif(c<terkecil):\n",
        "  terkecil=c\n",
        "elif(d<terkecil):\n",
        "  terkecil=d\n",
        "\n",
        "terbesar=a\n",
        "if(b>terbesar):\n",
        "  terbesar=b\n",
        "elif(c>terbesar):\n",
        "  terbesar=c\n",
        "\n",
        "print(\"Nilai Terkecil dari Bilangan Bulat Adalah: \",terkecil)    \n",
        "print(\"Nilai Terbesar dari Bilangan Bulat Adalah: \",terbesar)\n",
        "\n"
      ],
      "metadata": {
        "id": "HGtdgdyHdUcz"
      },
      "execution_count": null,
      "outputs": []
    }
  ]
}